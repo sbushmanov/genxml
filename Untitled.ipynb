{
 "cells": [
  {
   "cell_type": "code",
   "execution_count": 23,
   "id": "da66befc",
   "metadata": {},
   "outputs": [],
   "source": [
    "from faker import Faker\n",
    "fake = Faker('ru_RU')\n",
    "\n",
    "ls = []\n",
    "for _ in range(1000):\n",
    "    row = dict()\n",
    "    row['purchaser'] = fake.first_name_male()\n",
    "    row['item'] = fake.company()\n",
    "    row['date'] = fake.date()\n",
    "    row['amount'] = fake.pyint()\n",
    "    ls.append(row)\n",
    "    \n",
    "df = pd.DataFrame.from_dict(ls)\n",
    "\n",
    "df.to_csv(\"file.csv\", header=False, index=False, sep=\";\")"
   ]
  },
  {
   "cell_type": "code",
   "execution_count": null,
   "id": "7eebe5ba",
   "metadata": {},
   "outputs": [],
   "source": []
  }
 ],
 "metadata": {
  "kernelspec": {
   "display_name": "Python 3 (ipykernel)",
   "language": "python",
   "name": "python3"
  },
  "language_info": {
   "codemirror_mode": {
    "name": "ipython",
    "version": 3
   },
   "file_extension": ".py",
   "mimetype": "text/x-python",
   "name": "python",
   "nbconvert_exporter": "python",
   "pygments_lexer": "ipython3",
   "version": "3.9.16"
  }
 },
 "nbformat": 4,
 "nbformat_minor": 5
}
